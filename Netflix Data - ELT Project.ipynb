{
 "cells": [
  {
   "cell_type": "code",
   "execution_count": null,
   "id": "2721d25c",
   "metadata": {},
   "outputs": [],
   "source": [
    "import pandas as pd\n",
    "import numpy as np"
   ]
  },
  {
   "cell_type": "code",
   "execution_count": null,
   "id": "c53ce840",
   "metadata": {},
   "outputs": [],
   "source": [
    "df = pd.read_csv('netflix_titles.csv')"
   ]
  },
  {
   "cell_type": "code",
   "execution_count": null,
   "id": "8ebf4c99",
   "metadata": {},
   "outputs": [],
   "source": [
    "import sqlalchemy as sal\n",
    "engine = sal.create_engine('mssql://LAPTOP-VO7RFI9I/Netflix_Analysis?driver=ODBC+DRIVER+17+FOR+SQL+SERVER')\n",
    "dtype={'title':sal.NVARCHAR(length=1000)}\n",
    "conn = engine.connect()"
   ]
  },
  {
   "cell_type": "code",
   "execution_count": null,
   "id": "91ac5aee",
   "metadata": {},
   "outputs": [],
   "source": [
    "df.to_sql('netflix_raw', con = conn, index = False, if_exists = 'append', dtype = dtype)\n",
    "conn.close()"
   ]
  },
  {
   "cell_type": "code",
   "execution_count": null,
   "id": "4f387ac3",
   "metadata": {},
   "outputs": [],
   "source": [
    "df"
   ]
  },
  {
   "cell_type": "code",
   "execution_count": null,
   "id": "9b65c790",
   "metadata": {},
   "outputs": [],
   "source": [
    "df[df['show_id'] == \"s5023\"]"
   ]
  },
  {
   "cell_type": "code",
   "execution_count": null,
   "id": "89ae567a",
   "metadata": {},
   "outputs": [],
   "source": []
  }
 ],
 "metadata": {
  "kernelspec": {
   "display_name": "Python 3 (ipykernel)",
   "language": "python",
   "name": "python3"
  },
  "language_info": {
   "codemirror_mode": {
    "name": "ipython",
    "version": 3
   },
   "file_extension": ".py",
   "mimetype": "text/x-python",
   "name": "python",
   "nbconvert_exporter": "python",
   "pygments_lexer": "ipython3",
   "version": "3.9.13"
  }
 },
 "nbformat": 4,
 "nbformat_minor": 5
}
